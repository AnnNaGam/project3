{
 "cells": [
  {
   "cell_type": "code",
   "execution_count": 1,
   "id": "d6654182",
   "metadata": {},
   "outputs": [],
   "source": [
    "import numpy as np\n",
    "import pandas as pd\n",
    "import matplotlib.pyplot as plt\n",
    "import seaborn as sns\n",
    "from sklearn.linear_model import LinearRegression\n",
    "from sklearn.model_selection import train_test_split\n",
    "from sklearn import metrics\n",
    "import statsmodels.formula.api as smf\n",
    "from statsmodels.stats.outliers_influence import variance_inflation_factor\n",
    "%matplotlib inline\n",
    "import pickle"
   ]
  },
  {
   "cell_type": "code",
   "execution_count": 2,
   "id": "844130f1",
   "metadata": {},
   "outputs": [
    {
     "data": {
      "text/plain": [
       "'%.3f'"
      ]
     },
     "execution_count": 2,
     "metadata": {},
     "output_type": "execute_result"
    }
   ],
   "source": [
    "# 출력 precision 설정.\n",
    "np.set_printoptions(precision=3)\n",
    "pd.set_option(\"display.precision\",3)\n",
    "%precision %.3f"
   ]
  },
  {
   "cell_type": "markdown",
   "id": "b5d4cb46",
   "metadata": {},
   "source": [
    "#### 데이터 가져오기"
   ]
  },
  {
   "cell_type": "code",
   "execution_count": 3,
   "id": "98cdb070",
   "metadata": {},
   "outputs": [],
   "source": [
    "df1 = pd.read_excel(r'../data/p1.xlsx',engine='openpyxl')\n",
    "df2 = pd.read_excel(r'../data/p2.xlsx',engine='openpyxl')\n",
    "df3 = pd.read_excel(r'../data/p3.xlsx',engine='openpyxl')\n",
    "df4 = pd.read_excel(r'../data/p4.xlsx',engine='openpyxl')\n",
    "df5 = pd.read_excel(r'../data/p5.xlsx',engine='openpyxl')\n",
    "df6 = pd.read_excel(r'../data/p6.xlsx',engine='openpyxl')\n",
    "df7 = pd.read_excel(r'../data/p7.xlsx',engine='openpyxl')\n",
    "df8 = pd.read_excel(r'../data/p8.xlsx',engine='openpyxl')\n",
    "df9 = pd.read_excel(r'../data/p9.xlsx',engine='openpyxl')\n",
    "df10 = pd.read_excel(r'../data/p10.xlsx',engine='openpyxl')\n",
    "df11 = pd.read_excel(r'../data/p11.xlsx',engine='openpyxl')\n",
    "df12 = pd.read_excel(r'../data/p12.xlsx',engine='openpyxl')\n",
    "df13 = pd.read_excel(r'../data/p13.xlsx',engine='openpyxl')\n",
    "df14 = pd.read_excel(r'../data/p14.xlsx',engine='openpyxl')\n",
    "df15 = pd.read_excel(r'../data/p15.xlsx',engine='openpyxl')\n",
    "df16 = pd.read_excel(r'../data/p16.xlsx',engine='openpyxl')\n",
    "df17 = pd.read_excel(r'../data/p17.xlsx',engine='openpyxl')\n",
    "df18 = pd.read_excel(r'../data/p18.xlsx',engine='openpyxl')\n",
    "df19 = pd.read_excel(r'../data/p19.xlsx',engine='openpyxl')\n",
    "df20 = pd.read_excel(r'../data/p20.xlsx',engine='openpyxl')\n",
    "df21 = pd.read_excel(r'../data/p21.xlsx',engine='openpyxl')\n",
    "df22 = pd.read_excel(r'../data/p22.xlsx',engine='openpyxl')\n",
    "df23 = pd.read_excel(r'../data/p23.xlsx',engine='openpyxl')\n",
    "df24 = pd.read_excel(r'../data/p24.xlsx',engine='openpyxl')\n",
    "df25 = pd.read_excel(r'../data/p25.xlsx',engine='openpyxl')\n",
    "df26 = pd.read_excel(r'../data/p26.xlsx',engine='openpyxl')\n",
    "df27 = pd.read_excel(r'../data/p27.xlsx',engine='openpyxl')\n",
    "df28 = pd.read_excel(r'../data/p28.xlsx',engine='openpyxl')\n",
    "df29 = pd.read_excel(r'../data/p29.xlsx',engine='openpyxl')\n",
    "df30 = pd.read_excel(r'../data/p30.xlsx',engine='openpyxl')\n",
    "df31 = pd.read_excel(r'../data/p31.xlsx',engine='openpyxl')\n",
    "df32 = pd.read_excel(r'../data/p32.xlsx',engine='openpyxl')\n",
    "df33 = pd.read_excel(r'../data/p33.xlsx',engine='openpyxl')\n",
    "df34 = pd.read_excel(r'../data/p34.xlsx',engine='openpyxl')\n",
    "df35 = pd.read_excel(r'../data/p35.xlsx',engine='openpyxl')\n",
    "df36 = pd.read_excel(r'../data/p36.xlsx',engine='openpyxl')"
   ]
  },
  {
   "cell_type": "code",
   "execution_count": 4,
   "id": "4581e08e",
   "metadata": {},
   "outputs": [],
   "source": [
    "df_new = pd.concat([df1,df2,df3,df4,df5,df6,df7,df8,df9,df10,df11,df12,df13,df14,df15,df16,df17,df18,df19,df20,df21,df22,df23,df24,df25,df26,df27,df28,df29,df30,df31,df32,df33,df34,df35,df36],axis=0)"
   ]
  },
  {
   "cell_type": "code",
   "execution_count": 5,
   "id": "2e2515c6",
   "metadata": {},
   "outputs": [],
   "source": [
    "df_new = df_new.drop(columns=0)"
   ]
  },
  {
   "cell_type": "code",
   "execution_count": 6,
   "id": "7eb918e1",
   "metadata": {},
   "outputs": [],
   "source": [
    "df_new.rename(columns={1:'pixels','Unnamed: 2':'pops'},inplace=True)"
   ]
  },
  {
   "cell_type": "code",
   "execution_count": 7,
   "id": "38778f7a",
   "metadata": {},
   "outputs": [
    {
     "data": {
      "text/html": [
       "<div>\n",
       "<style scoped>\n",
       "    .dataframe tbody tr th:only-of-type {\n",
       "        vertical-align: middle;\n",
       "    }\n",
       "\n",
       "    .dataframe tbody tr th {\n",
       "        vertical-align: top;\n",
       "    }\n",
       "\n",
       "    .dataframe thead th {\n",
       "        text-align: right;\n",
       "    }\n",
       "</style>\n",
       "<table border=\"1\" class=\"dataframe\">\n",
       "  <thead>\n",
       "    <tr style=\"text-align: right;\">\n",
       "      <th></th>\n",
       "      <th>pixels</th>\n",
       "      <th>pops</th>\n",
       "    </tr>\n",
       "  </thead>\n",
       "  <tbody>\n",
       "    <tr>\n",
       "      <th>0</th>\n",
       "      <td>79646</td>\n",
       "      <td>6.00</td>\n",
       "    </tr>\n",
       "    <tr>\n",
       "      <th>1</th>\n",
       "      <td>27575</td>\n",
       "      <td>3.75</td>\n",
       "    </tr>\n",
       "    <tr>\n",
       "      <th>2</th>\n",
       "      <td>52398</td>\n",
       "      <td>4.75</td>\n",
       "    </tr>\n",
       "    <tr>\n",
       "      <th>3</th>\n",
       "      <td>68525</td>\n",
       "      <td>6.25</td>\n",
       "    </tr>\n",
       "    <tr>\n",
       "      <th>4</th>\n",
       "      <td>123982</td>\n",
       "      <td>12.25</td>\n",
       "    </tr>\n",
       "    <tr>\n",
       "      <th>...</th>\n",
       "      <td>...</td>\n",
       "      <td>...</td>\n",
       "    </tr>\n",
       "    <tr>\n",
       "      <th>1039</th>\n",
       "      <td>117077</td>\n",
       "      <td>11.00</td>\n",
       "    </tr>\n",
       "    <tr>\n",
       "      <th>1040</th>\n",
       "      <td>18203</td>\n",
       "      <td>1.00</td>\n",
       "    </tr>\n",
       "    <tr>\n",
       "      <th>1041</th>\n",
       "      <td>45337</td>\n",
       "      <td>4.25</td>\n",
       "    </tr>\n",
       "    <tr>\n",
       "      <th>1042</th>\n",
       "      <td>86712</td>\n",
       "      <td>9.00</td>\n",
       "    </tr>\n",
       "    <tr>\n",
       "      <th>1043</th>\n",
       "      <td>66729</td>\n",
       "      <td>7.00</td>\n",
       "    </tr>\n",
       "  </tbody>\n",
       "</table>\n",
       "<p>1044 rows × 2 columns</p>\n",
       "</div>"
      ],
      "text/plain": [
       "      pixels   pops\n",
       "0      79646   6.00\n",
       "1      27575   3.75\n",
       "2      52398   4.75\n",
       "3      68525   6.25\n",
       "4     123982  12.25\n",
       "...      ...    ...\n",
       "1039  117077  11.00\n",
       "1040   18203   1.00\n",
       "1041   45337   4.25\n",
       "1042   86712   9.00\n",
       "1043   66729   7.00\n",
       "\n",
       "[1044 rows x 2 columns]"
      ]
     },
     "execution_count": 7,
     "metadata": {},
     "output_type": "execute_result"
    }
   ],
   "source": [
    "df_new.reset_index(drop=True, inplace=True)\n",
    "df_new"
   ]
  },
  {
   "cell_type": "code",
   "execution_count": 8,
   "id": "c68fe33e",
   "metadata": {},
   "outputs": [
    {
     "data": {
      "text/html": [
       "<div>\n",
       "<style scoped>\n",
       "    .dataframe tbody tr th:only-of-type {\n",
       "        vertical-align: middle;\n",
       "    }\n",
       "\n",
       "    .dataframe tbody tr th {\n",
       "        vertical-align: top;\n",
       "    }\n",
       "\n",
       "    .dataframe thead th {\n",
       "        text-align: right;\n",
       "    }\n",
       "</style>\n",
       "<table border=\"1\" class=\"dataframe\">\n",
       "  <thead>\n",
       "    <tr style=\"text-align: right;\">\n",
       "      <th></th>\n",
       "      <th>pixels</th>\n",
       "    </tr>\n",
       "  </thead>\n",
       "  <tbody>\n",
       "    <tr>\n",
       "      <th>0</th>\n",
       "      <td>79646</td>\n",
       "    </tr>\n",
       "    <tr>\n",
       "      <th>1</th>\n",
       "      <td>27575</td>\n",
       "    </tr>\n",
       "    <tr>\n",
       "      <th>2</th>\n",
       "      <td>52398</td>\n",
       "    </tr>\n",
       "    <tr>\n",
       "      <th>3</th>\n",
       "      <td>68525</td>\n",
       "    </tr>\n",
       "    <tr>\n",
       "      <th>4</th>\n",
       "      <td>123982</td>\n",
       "    </tr>\n",
       "    <tr>\n",
       "      <th>...</th>\n",
       "      <td>...</td>\n",
       "    </tr>\n",
       "    <tr>\n",
       "      <th>1039</th>\n",
       "      <td>117077</td>\n",
       "    </tr>\n",
       "    <tr>\n",
       "      <th>1040</th>\n",
       "      <td>18203</td>\n",
       "    </tr>\n",
       "    <tr>\n",
       "      <th>1041</th>\n",
       "      <td>45337</td>\n",
       "    </tr>\n",
       "    <tr>\n",
       "      <th>1042</th>\n",
       "      <td>86712</td>\n",
       "    </tr>\n",
       "    <tr>\n",
       "      <th>1043</th>\n",
       "      <td>66729</td>\n",
       "    </tr>\n",
       "  </tbody>\n",
       "</table>\n",
       "<p>1044 rows × 1 columns</p>\n",
       "</div>"
      ],
      "text/plain": [
       "      pixels\n",
       "0      79646\n",
       "1      27575\n",
       "2      52398\n",
       "3      68525\n",
       "4     123982\n",
       "...      ...\n",
       "1039  117077\n",
       "1040   18203\n",
       "1041   45337\n",
       "1042   86712\n",
       "1043   66729\n",
       "\n",
       "[1044 rows x 1 columns]"
      ]
     },
     "execution_count": 8,
     "metadata": {},
     "output_type": "execute_result"
    }
   ],
   "source": [
    "# 설명변수 설정\n",
    "X = df_new.drop(columns=['pops'])\n",
    "X"
   ]
  },
  {
   "cell_type": "code",
   "execution_count": 9,
   "id": "93ef8344",
   "metadata": {},
   "outputs": [
    {
     "data": {
      "text/html": [
       "<div>\n",
       "<style scoped>\n",
       "    .dataframe tbody tr th:only-of-type {\n",
       "        vertical-align: middle;\n",
       "    }\n",
       "\n",
       "    .dataframe tbody tr th {\n",
       "        vertical-align: top;\n",
       "    }\n",
       "\n",
       "    .dataframe thead th {\n",
       "        text-align: right;\n",
       "    }\n",
       "</style>\n",
       "<table border=\"1\" class=\"dataframe\">\n",
       "  <thead>\n",
       "    <tr style=\"text-align: right;\">\n",
       "      <th></th>\n",
       "      <th>pops</th>\n",
       "    </tr>\n",
       "  </thead>\n",
       "  <tbody>\n",
       "    <tr>\n",
       "      <th>0</th>\n",
       "      <td>6.00</td>\n",
       "    </tr>\n",
       "    <tr>\n",
       "      <th>1</th>\n",
       "      <td>3.75</td>\n",
       "    </tr>\n",
       "    <tr>\n",
       "      <th>2</th>\n",
       "      <td>4.75</td>\n",
       "    </tr>\n",
       "    <tr>\n",
       "      <th>3</th>\n",
       "      <td>6.25</td>\n",
       "    </tr>\n",
       "    <tr>\n",
       "      <th>4</th>\n",
       "      <td>12.25</td>\n",
       "    </tr>\n",
       "    <tr>\n",
       "      <th>...</th>\n",
       "      <td>...</td>\n",
       "    </tr>\n",
       "    <tr>\n",
       "      <th>1039</th>\n",
       "      <td>11.00</td>\n",
       "    </tr>\n",
       "    <tr>\n",
       "      <th>1040</th>\n",
       "      <td>1.00</td>\n",
       "    </tr>\n",
       "    <tr>\n",
       "      <th>1041</th>\n",
       "      <td>4.25</td>\n",
       "    </tr>\n",
       "    <tr>\n",
       "      <th>1042</th>\n",
       "      <td>9.00</td>\n",
       "    </tr>\n",
       "    <tr>\n",
       "      <th>1043</th>\n",
       "      <td>7.00</td>\n",
       "    </tr>\n",
       "  </tbody>\n",
       "</table>\n",
       "<p>1044 rows × 1 columns</p>\n",
       "</div>"
      ],
      "text/plain": [
       "       pops\n",
       "0      6.00\n",
       "1      3.75\n",
       "2      4.75\n",
       "3      6.25\n",
       "4     12.25\n",
       "...     ...\n",
       "1039  11.00\n",
       "1040   1.00\n",
       "1041   4.25\n",
       "1042   9.00\n",
       "1043   7.00\n",
       "\n",
       "[1044 rows x 1 columns]"
      ]
     },
     "execution_count": 9,
     "metadata": {},
     "output_type": "execute_result"
    }
   ],
   "source": [
    "# 반응변수 설정\n",
    "Y = df_new[ ['pops'] ]\n",
    "Y"
   ]
  },
  {
   "cell_type": "code",
   "execution_count": 10,
   "id": "cf21848c",
   "metadata": {},
   "outputs": [],
   "source": [
    "with open('cnn_y.pkl','wb') as f:\n",
    "    pickle.dump(Y,f)"
   ]
  },
  {
   "cell_type": "code",
   "execution_count": 11,
   "id": "96f92057",
   "metadata": {},
   "outputs": [
    {
     "data": {
      "text/html": [
       "<div>\n",
       "<style scoped>\n",
       "    .dataframe tbody tr th:only-of-type {\n",
       "        vertical-align: middle;\n",
       "    }\n",
       "\n",
       "    .dataframe tbody tr th {\n",
       "        vertical-align: top;\n",
       "    }\n",
       "\n",
       "    .dataframe thead th {\n",
       "        text-align: right;\n",
       "    }\n",
       "</style>\n",
       "<table border=\"1\" class=\"dataframe\">\n",
       "  <thead>\n",
       "    <tr style=\"text-align: right;\">\n",
       "      <th></th>\n",
       "      <th>pixels</th>\n",
       "      <th>pops</th>\n",
       "    </tr>\n",
       "  </thead>\n",
       "  <tbody>\n",
       "    <tr>\n",
       "      <th>count</th>\n",
       "      <td>1044.000</td>\n",
       "      <td>1044.000</td>\n",
       "    </tr>\n",
       "    <tr>\n",
       "      <th>mean</th>\n",
       "      <td>77986.949</td>\n",
       "      <td>7.395</td>\n",
       "    </tr>\n",
       "    <tr>\n",
       "      <th>std</th>\n",
       "      <td>40405.731</td>\n",
       "      <td>3.770</td>\n",
       "    </tr>\n",
       "    <tr>\n",
       "      <th>min</th>\n",
       "      <td>0.000</td>\n",
       "      <td>0.000</td>\n",
       "    </tr>\n",
       "    <tr>\n",
       "      <th>25%</th>\n",
       "      <td>50018.000</td>\n",
       "      <td>5.000</td>\n",
       "    </tr>\n",
       "    <tr>\n",
       "      <th>50%</th>\n",
       "      <td>76511.000</td>\n",
       "      <td>7.250</td>\n",
       "    </tr>\n",
       "    <tr>\n",
       "      <th>75%</th>\n",
       "      <td>105212.250</td>\n",
       "      <td>10.000</td>\n",
       "    </tr>\n",
       "    <tr>\n",
       "      <th>max</th>\n",
       "      <td>207872.000</td>\n",
       "      <td>19.750</td>\n",
       "    </tr>\n",
       "  </tbody>\n",
       "</table>\n",
       "</div>"
      ],
      "text/plain": [
       "           pixels      pops\n",
       "count    1044.000  1044.000\n",
       "mean    77986.949     7.395\n",
       "std     40405.731     3.770\n",
       "min         0.000     0.000\n",
       "25%     50018.000     5.000\n",
       "50%     76511.000     7.250\n",
       "75%    105212.250    10.000\n",
       "max    207872.000    19.750"
      ]
     },
     "execution_count": 11,
     "metadata": {},
     "output_type": "execute_result"
    }
   ],
   "source": [
    "# 기술통계 요약.\n",
    "df_new.describe()"
   ]
  },
  {
   "cell_type": "code",
   "execution_count": 12,
   "id": "b5fdbaf0",
   "metadata": {},
   "outputs": [
    {
     "data": {
      "text/html": [
       "<div>\n",
       "<style scoped>\n",
       "    .dataframe tbody tr th:only-of-type {\n",
       "        vertical-align: middle;\n",
       "    }\n",
       "\n",
       "    .dataframe tbody tr th {\n",
       "        vertical-align: top;\n",
       "    }\n",
       "\n",
       "    .dataframe thead th {\n",
       "        text-align: right;\n",
       "    }\n",
       "</style>\n",
       "<table border=\"1\" class=\"dataframe\">\n",
       "  <thead>\n",
       "    <tr style=\"text-align: right;\">\n",
       "      <th></th>\n",
       "      <th>pixels</th>\n",
       "      <th>pops</th>\n",
       "    </tr>\n",
       "  </thead>\n",
       "  <tbody>\n",
       "    <tr>\n",
       "      <th>pixels</th>\n",
       "      <td>1.000</td>\n",
       "      <td>0.971</td>\n",
       "    </tr>\n",
       "    <tr>\n",
       "      <th>pops</th>\n",
       "      <td>0.971</td>\n",
       "      <td>1.000</td>\n",
       "    </tr>\n",
       "  </tbody>\n",
       "</table>\n",
       "</div>"
      ],
      "text/plain": [
       "        pixels   pops\n",
       "pixels   1.000  0.971\n",
       "pops     0.971  1.000"
      ]
     },
     "execution_count": 12,
     "metadata": {},
     "output_type": "execute_result"
    }
   ],
   "source": [
    "df_new.corr()"
   ]
  },
  {
   "cell_type": "code",
   "execution_count": 13,
   "id": "3b27718b",
   "metadata": {},
   "outputs": [
    {
     "data": {
      "text/html": [
       "<table class=\"simpletable\">\n",
       "<caption>OLS Regression Results</caption>\n",
       "<tr>\n",
       "  <th>Dep. Variable:</th>          <td>pops</td>       <th>  R-squared:         </th> <td>   0.943</td> \n",
       "</tr>\n",
       "<tr>\n",
       "  <th>Model:</th>                   <td>OLS</td>       <th>  Adj. R-squared:    </th> <td>   0.943</td> \n",
       "</tr>\n",
       "<tr>\n",
       "  <th>Method:</th>             <td>Least Squares</td>  <th>  F-statistic:       </th> <td>1.727e+04</td>\n",
       "</tr>\n",
       "<tr>\n",
       "  <th>Date:</th>             <td>Mon, 01 Apr 2024</td> <th>  Prob (F-statistic):</th>  <td>  0.00</td>  \n",
       "</tr>\n",
       "<tr>\n",
       "  <th>Time:</th>                 <td>10:29:37</td>     <th>  Log-Likelihood:    </th> <td> -1369.9</td> \n",
       "</tr>\n",
       "<tr>\n",
       "  <th>No. Observations:</th>      <td>  1044</td>      <th>  AIC:               </th> <td>   2744.</td> \n",
       "</tr>\n",
       "<tr>\n",
       "  <th>Df Residuals:</th>          <td>  1042</td>      <th>  BIC:               </th> <td>   2754.</td> \n",
       "</tr>\n",
       "<tr>\n",
       "  <th>Df Model:</th>              <td>     1</td>      <th>                     </th>     <td> </td>    \n",
       "</tr>\n",
       "<tr>\n",
       "  <th>Covariance Type:</th>      <td>nonrobust</td>    <th>                     </th>     <td> </td>    \n",
       "</tr>\n",
       "</table>\n",
       "<table class=\"simpletable\">\n",
       "<tr>\n",
       "      <td></td>         <th>coef</th>     <th>std err</th>      <th>t</th>      <th>P>|t|</th>  <th>[0.025</th>    <th>0.975]</th>  \n",
       "</tr>\n",
       "<tr>\n",
       "  <th>Intercept</th> <td>    0.3294</td> <td>    0.061</td> <td>    5.440</td> <td> 0.000</td> <td>    0.211</td> <td>    0.448</td>\n",
       "</tr>\n",
       "<tr>\n",
       "  <th>pixels</th>    <td>  9.06e-05</td> <td> 6.89e-07</td> <td>  131.423</td> <td> 0.000</td> <td> 8.93e-05</td> <td>  9.2e-05</td>\n",
       "</tr>\n",
       "</table>\n",
       "<table class=\"simpletable\">\n",
       "<tr>\n",
       "  <th>Omnibus:</th>       <td>66.569</td> <th>  Durbin-Watson:     </th> <td>   2.050</td>\n",
       "</tr>\n",
       "<tr>\n",
       "  <th>Prob(Omnibus):</th> <td> 0.000</td> <th>  Jarque-Bera (JB):  </th> <td> 127.062</td>\n",
       "</tr>\n",
       "<tr>\n",
       "  <th>Skew:</th>          <td> 0.432</td> <th>  Prob(JB):          </th> <td>2.56e-28</td>\n",
       "</tr>\n",
       "<tr>\n",
       "  <th>Kurtosis:</th>      <td> 4.474</td> <th>  Cond. No.          </th> <td>1.91e+05</td>\n",
       "</tr>\n",
       "</table><br/><br/>Notes:<br/>[1] Standard Errors assume that the covariance matrix of the errors is correctly specified.<br/>[2] The condition number is large, 1.91e+05. This might indicate that there are<br/>strong multicollinearity or other numerical problems."
      ],
      "text/latex": [
       "\\begin{center}\n",
       "\\begin{tabular}{lclc}\n",
       "\\toprule\n",
       "\\textbf{Dep. Variable:}    &       pops       & \\textbf{  R-squared:         } &     0.943   \\\\\n",
       "\\textbf{Model:}            &       OLS        & \\textbf{  Adj. R-squared:    } &     0.943   \\\\\n",
       "\\textbf{Method:}           &  Least Squares   & \\textbf{  F-statistic:       } & 1.727e+04   \\\\\n",
       "\\textbf{Date:}             & Mon, 01 Apr 2024 & \\textbf{  Prob (F-statistic):} &     0.00    \\\\\n",
       "\\textbf{Time:}             &     10:29:37     & \\textbf{  Log-Likelihood:    } &   -1369.9   \\\\\n",
       "\\textbf{No. Observations:} &        1044      & \\textbf{  AIC:               } &     2744.   \\\\\n",
       "\\textbf{Df Residuals:}     &        1042      & \\textbf{  BIC:               } &     2754.   \\\\\n",
       "\\textbf{Df Model:}         &           1      & \\textbf{                     } &             \\\\\n",
       "\\textbf{Covariance Type:}  &    nonrobust     & \\textbf{                     } &             \\\\\n",
       "\\bottomrule\n",
       "\\end{tabular}\n",
       "\\begin{tabular}{lcccccc}\n",
       "                   & \\textbf{coef} & \\textbf{std err} & \\textbf{t} & \\textbf{P$> |$t$|$} & \\textbf{[0.025} & \\textbf{0.975]}  \\\\\n",
       "\\midrule\n",
       "\\textbf{Intercept} &       0.3294  &        0.061     &     5.440  &         0.000        &        0.211    &        0.448     \\\\\n",
       "\\textbf{pixels}    &     9.06e-05  &     6.89e-07     &   131.423  &         0.000        &     8.93e-05    &      9.2e-05     \\\\\n",
       "\\bottomrule\n",
       "\\end{tabular}\n",
       "\\begin{tabular}{lclc}\n",
       "\\textbf{Omnibus:}       & 66.569 & \\textbf{  Durbin-Watson:     } &    2.050  \\\\\n",
       "\\textbf{Prob(Omnibus):} &  0.000 & \\textbf{  Jarque-Bera (JB):  } &  127.062  \\\\\n",
       "\\textbf{Skew:}          &  0.432 & \\textbf{  Prob(JB):          } & 2.56e-28  \\\\\n",
       "\\textbf{Kurtosis:}      &  4.474 & \\textbf{  Cond. No.          } & 1.91e+05  \\\\\n",
       "\\bottomrule\n",
       "\\end{tabular}\n",
       "%\\caption{OLS Regression Results}\n",
       "\\end{center}\n",
       "\n",
       "Notes: \\newline\n",
       " [1] Standard Errors assume that the covariance matrix of the errors is correctly specified. \\newline\n",
       " [2] The condition number is large, 1.91e+05. This might indicate that there are \\newline\n",
       " strong multicollinearity or other numerical problems."
      ],
      "text/plain": [
       "<class 'statsmodels.iolib.summary.Summary'>\n",
       "\"\"\"\n",
       "                            OLS Regression Results                            \n",
       "==============================================================================\n",
       "Dep. Variable:                   pops   R-squared:                       0.943\n",
       "Model:                            OLS   Adj. R-squared:                  0.943\n",
       "Method:                 Least Squares   F-statistic:                 1.727e+04\n",
       "Date:                Mon, 01 Apr 2024   Prob (F-statistic):               0.00\n",
       "Time:                        10:29:37   Log-Likelihood:                -1369.9\n",
       "No. Observations:                1044   AIC:                             2744.\n",
       "Df Residuals:                    1042   BIC:                             2754.\n",
       "Df Model:                           1                                         \n",
       "Covariance Type:            nonrobust                                         \n",
       "==============================================================================\n",
       "                 coef    std err          t      P>|t|      [0.025      0.975]\n",
       "------------------------------------------------------------------------------\n",
       "Intercept      0.3294      0.061      5.440      0.000       0.211       0.448\n",
       "pixels       9.06e-05   6.89e-07    131.423      0.000    8.93e-05     9.2e-05\n",
       "==============================================================================\n",
       "Omnibus:                       66.569   Durbin-Watson:                   2.050\n",
       "Prob(Omnibus):                  0.000   Jarque-Bera (JB):              127.062\n",
       "Skew:                           0.432   Prob(JB):                     2.56e-28\n",
       "Kurtosis:                       4.474   Cond. No.                     1.91e+05\n",
       "==============================================================================\n",
       "\n",
       "Notes:\n",
       "[1] Standard Errors assume that the covariance matrix of the errors is correctly specified.\n",
       "[2] The condition number is large, 1.91e+05. This might indicate that there are\n",
       "strong multicollinearity or other numerical problems.\n",
       "\"\"\""
      ]
     },
     "execution_count": 13,
     "metadata": {},
     "output_type": "execute_result"
    }
   ],
   "source": [
    "myModel1 = smf.ols(formula = 'pops ~ pixels', data=df_new)\n",
    "result1 = myModel1.fit()\n",
    "result1.summary()"
   ]
  },
  {
   "cell_type": "code",
   "execution_count": 14,
   "id": "3226e494",
   "metadata": {},
   "outputs": [
    {
     "data": {
      "image/png": "[encoded data removed]",
      "text/plain": [
       "<Figure size 640x480 with 1 Axes>"
      ]
     },
     "metadata": {},
     "output_type": "display_data"
    }
   ],
   "source": [
    "# RM vs PRICE 산점도 출력.\n",
    "plt.scatter(X,Y, c = 'g',s=15,alpha=0.5)\n",
    "#plt.scatter(df.RM, df.PRICE, c = 'g',s=15,alpha=0.5)\n",
    "plt.xlabel('pixels')\n",
    "plt.ylabel('pops')\n",
    "plt.show()"
   ]
  },
  {
   "cell_type": "markdown",
   "id": "b198d7ae",
   "metadata": {},
   "source": [
    "#### 선형회귀 학습"
   ]
  },
  {
   "cell_type": "code",
   "execution_count": 15,
   "id": "81662dea",
   "metadata": {},
   "outputs": [
    {
     "name": "stdout",
     "output_type": "stream",
     "text": [
      "(730, 1)\n",
      "(314, 1)\n",
      "(730, 1)\n",
      "(314, 1)\n"
     ]
    }
   ],
   "source": [
    "# 데이터셋 쪼개기.\n",
    "X_train, X_test, Y_train, Y_test = train_test_split(X, Y, test_size=0.3, random_state=1234)\n",
    "print(X_train.shape)\n",
    "print(X_test.shape)\n",
    "print(Y_train.shape)\n",
    "print(Y_test.shape)"
   ]
  },
  {
   "cell_type": "code",
   "execution_count": 16,
   "id": "c6297343",
   "metadata": {},
   "outputs": [],
   "source": [
    "lm = LinearRegression()\n",
    "lm.fit(X_train,Y_train)\n",
    "predY_in = lm.predict(X_train)\n",
    "predY_out = lm.predict(X_test)"
   ]
  },
  {
   "cell_type": "code",
   "execution_count": 17,
   "id": "12c8407d",
   "metadata": {},
   "outputs": [
    {
     "data": {
      "text/plain": [
       "array([[9.041e-05]])"
      ]
     },
     "execution_count": 17,
     "metadata": {},
     "output_type": "execute_result"
    }
   ],
   "source": [
    "lm.coef_"
   ]
  },
  {
   "cell_type": "markdown",
   "id": "830dfff8",
   "metadata": {},
   "source": [
    "#### 선형을 이루는지 확인"
   ]
  },
  {
   "cell_type": "code",
   "execution_count": 18,
   "id": "b635588c",
   "metadata": {},
   "outputs": [
    {
     "data": {
      "image/png": "[encoded data removed]",
      "text/plain": [
       "<Figure size 640x480 with 1 Axes>"
      ]
     },
     "metadata": {},
     "output_type": "display_data"
    }
   ],
   "source": [
    "# 실제 Y vs 예측 Y 출력.\n",
    "plt.scatter(predY_out,Y_test,c = 'blue', s=15, alpha=0.5)\n",
    "plt.ylabel('REAL POPS')\n",
    "plt.xlabel('PREDICTED POPS')\n",
    "plt.show()"
   ]
  },
  {
   "cell_type": "code",
   "execution_count": 19,
   "id": "8ca3a14a",
   "metadata": {},
   "outputs": [
    {
     "data": {
      "text/plain": [
       "0       5.00\n",
       "1      11.50\n",
       "2       4.00\n",
       "3       6.00\n",
       "4      12.75\n",
       "       ...  \n",
       "309     6.50\n",
       "310     2.50\n",
       "311     9.00\n",
       "312     9.00\n",
       "313    15.50\n",
       "Name: pops, Length: 314, dtype: float64"
      ]
     },
     "execution_count": 19,
     "metadata": {},
     "output_type": "execute_result"
    }
   ],
   "source": [
    "Y_ex = Y_test['pops'].reset_index(drop=True)\n",
    "Y_ex"
   ]
  },
  {
   "cell_type": "code",
   "execution_count": 20,
   "id": "3d9eb773",
   "metadata": {},
   "outputs": [
    {
     "data": {
      "text/plain": [
       "0.938"
      ]
     },
     "execution_count": 20,
     "metadata": {},
     "output_type": "execute_result"
    }
   ],
   "source": [
    "Y_ex.corr(pd.Series(predY_out[:,0]))**2"
   ]
  },
  {
   "cell_type": "markdown",
   "id": "b0dabe93",
   "metadata": {},
   "source": [
    "#### 오류 분석"
   ]
  },
  {
   "cell_type": "code",
   "execution_count": 21,
   "id": "90a36b91",
   "metadata": {},
   "outputs": [
    {
     "name": "stdout",
     "output_type": "stream",
     "text": [
      "In-sample MSE is      : 0.7748940454254241\n",
      "Out-of-sample MSE is  : 0.8907023667440472\n",
      "--------------------------------------------------\n",
      "In-sample RMSE is     : 0.880280662871464\n",
      "Out-of-sample RMSE is : 0.943770293421046\n"
     ]
    }
   ],
   "source": [
    "print('In-sample MSE is      : ' + str(metrics.mean_squared_error(Y_train, predY_in)))\n",
    "print('Out-of-sample MSE is  : ' + str(metrics.mean_squared_error(Y_test, predY_out)))\n",
    "print('-'*50)\n",
    "print('In-sample RMSE is     : ' + str(np.sqrt(metrics.mean_squared_error(Y_train, predY_in))))\n",
    "print('Out-of-sample RMSE is : ' + str(np.sqrt(metrics.mean_squared_error(Y_test, predY_out))))"
   ]
  },
  {
   "cell_type": "code",
   "execution_count": 22,
   "id": "a55bdcd2",
   "metadata": {},
   "outputs": [],
   "source": [
    "# 잔차 계산.\n",
    "residual = Y_test - predY_out"
   ]
  },
  {
   "cell_type": "code",
   "execution_count": 24,
   "id": "13ed762c",
   "metadata": {},
   "outputs": [
    {
     "data": {
      "image/png": "[encoded data removed]",
      "text/plain": [
       "<Figure size 640x480 with 1 Axes>"
      ]
     },
     "metadata": {},
     "output_type": "display_data"
    }
   ],
   "source": [
    "# 잔차 분석\n",
    "plt.scatter(Y_test,residual,c = 'red', s=15, alpha=0.5)\n",
    "plt.xlabel('Y')\n",
    "plt.ylabel('Residual')\n",
    "plt.title('Residual')\n",
    "plt.show()"
   ]
  },
  {
   "cell_type": "code",
   "execution_count": 30,
   "id": "401db947",
   "metadata": {
    "scrolled": false
   },
   "outputs": [
    {
     "data": {
      "image/png": "[encoded data removed]",
      "text/plain": [
       "<Figure size 640x480 with 1 Axes>"
      ]
     },
     "metadata": {},
     "output_type": "display_data"
    }
   ],
   "source": [
    "plt.hist(residual, bins=30, color='green', alpha=0.7)\n",
    "plt.show()"
   ]
  },
  {
   "cell_type": "code",
   "execution_count": null,
   "id": "27b66a8b",
   "metadata": {},
   "outputs": [],
   "source": []
  }
 ],
 "metadata": {
  "kernelspec": {
   "display_name": "Python 3 (ipykernel)",
   "language": "python",
   "name": "python3"
  },
  "language_info": {
   "codemirror_mode": {
    "name": "ipython",
    "version": 3
   },
   "file_extension": ".py",
   "mimetype": "text/x-python",
   "name": "python",
   "nbconvert_exporter": "python",
   "pygments_lexer": "ipython3",
   "version": "3.11.5"
  }
 },
 "nbformat": 4,
 "nbformat_minor": 5
}
